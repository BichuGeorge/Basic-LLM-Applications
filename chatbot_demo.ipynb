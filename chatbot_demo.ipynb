{
 "cells": [
  {
   "cell_type": "code",
   "execution_count": 1,
   "metadata": {},
   "outputs": [],
   "source": [
    "import warnings\n",
    "from langchain._api import LangChainDeprecationWarning\n",
    "warnings.simplefilter(\n",
    "    \"ignore\",\n",
    "    category=LangChainDeprecationWarning\n",
    ")"
   ]
  },
  {
   "cell_type": "code",
   "execution_count": 2,
   "metadata": {},
   "outputs": [
    {
     "data": {
      "text/plain": [
       "'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'"
      ]
     },
     "execution_count": 2,
     "metadata": {},
     "output_type": "execute_result"
    }
   ],
   "source": [
    "from dotenv import load_dotenv\n",
    "import os\n",
    "load_dotenv()\n",
    "groq_key = os.getenv(\"GROQ\")\n",
    "groq_key"
   ]
  },
  {
   "cell_type": "code",
   "execution_count": 3,
   "metadata": {},
   "outputs": [],
   "source": [
    "# deepseek-r1-distill-llama-70b\n",
    "from langchain_groq import ChatGroq\n",
    "groq_model = ChatGroq(\n",
    "    model=\"deepseek-r1-distill-llama-70b\",\n",
    "    groq_api_key=groq_key)"
   ]
  },
  {
   "cell_type": "code",
   "execution_count": 17,
   "metadata": {},
   "outputs": [],
   "source": [
    "from langchain_core.messages import HumanMessage"
   ]
  },
  {
   "cell_type": "code",
   "execution_count": 6,
   "metadata": {},
   "outputs": [],
   "source": [
    "from langchain_core.messages import HumanMessage\n",
    "messagesToTheChatbot = [\n",
    "    HumanMessage(\n",
    "        content=\"My favorate color is blue.\"\n",
    "    )\n",
    "]"
   ]
  },
  {
   "cell_type": "code",
   "execution_count": 7,
   "metadata": {},
   "outputs": [
    {
     "data": {
      "text/plain": [
       "AIMessage(content=\"<think>\\n\\n</think>\\n\\nThat's great! Blue is a popular and calming color that often symbolizes trust, loyalty, and serenity. What’s your favorite shade of blue—light sky blue, deep navy, or something in between?\", additional_kwargs={}, response_metadata={'token_usage': {'completion_tokens': 48, 'prompt_tokens': 10, 'total_tokens': 58, 'completion_time': 0.174545455, 'prompt_time': 0.005888111, 'queue_time': 0.056498869, 'total_time': 0.180433566}, 'model_name': 'deepseek-r1-distill-llama-70b', 'system_fingerprint': 'fp_2834edf0f4', 'finish_reason': 'stop', 'logprobs': None}, id='run-eaa176e2-5b3b-4c0f-b900-0988f187214f-0', usage_metadata={'input_tokens': 10, 'output_tokens': 48, 'total_tokens': 58})"
      ]
     },
     "execution_count": 7,
     "metadata": {},
     "output_type": "execute_result"
    }
   ],
   "source": [
    "groq_model.invoke(\n",
    "    messagesToTheChatbot\n",
    ")"
   ]
  },
  {
   "cell_type": "code",
   "execution_count": null,
   "metadata": {},
   "outputs": [
    {
     "data": {
      "text/plain": [
       "AIMessage(content=\"<think>\\n\\n</think>\\n\\nI don't have access to personal data about individuals unless it has been shared with me in the course of our conversation. If you'd like to share your favorite color with me, I'd be happy to chat about it!\", additional_kwargs={}, response_metadata={'token_usage': {'completion_tokens': 50, 'prompt_tokens': 10, 'total_tokens': 60, 'completion_time': 0.181818182, 'prompt_time': 0.004683964, 'queue_time': 1.883773113, 'total_time': 0.186502146}, 'model_name': 'deepseek-r1-distill-llama-70b', 'system_fingerprint': 'fp_2834edf0f4', 'finish_reason': 'stop', 'logprobs': None}, id='run-999ea031-6068-4ffb-b41b-a65a56a70c40-0', usage_metadata={'input_tokens': 10, 'output_tokens': 50, 'total_tokens': 60})"
      ]
     },
     "execution_count": 9,
     "metadata": {},
     "output_type": "execute_result"
    }
   ],
   "source": [
    "groq_model.invoke(\n",
    "    [\n",
    "        HumanMessage(\n",
    "            content=\"What is my favorate color?\"\n",
    "        )\n",
    "    ]\n",
    ")\n",
    "## Here, Model is not able to memorize the previous conversation because we havn't added the memory."
   ]
  },
  {
   "cell_type": "markdown",
   "metadata": {},
   "source": [
    "Let's add Memory to our chatbot"
   ]
  },
  {
   "cell_type": "code",
   "execution_count": 16,
   "metadata": {},
   "outputs": [],
   "source": [
    "from langchain import LLMChain\n",
    "from langchain_core.prompts import ChatPromptTemplate, HumanMessagePromptTemplate, MessagesPlaceholder\n",
    "from langchain.memory import ConversationBufferMemory, FileChatMessageHistory"
   ]
  },
  {
   "cell_type": "code",
   "execution_count": 5,
   "metadata": {},
   "outputs": [],
   "source": [
    "memory = ConversationBufferMemory(\n",
    "    chat_memory=FileChatMessageHistory(\n",
    "        \"messages.json\"\n",
    "    ),\n",
    "    memory_key=\"messages\",\n",
    "    return_messages=True\n",
    ")"
   ]
  },
  {
   "cell_type": "code",
   "execution_count": 6,
   "metadata": {},
   "outputs": [],
   "source": [
    "prompt = ChatPromptTemplate(\n",
    "    input_variables=[\n",
    "        \"content\", \"messages\"\n",
    "    ],\n",
    "    messages=[\n",
    "        MessagesPlaceholder(\n",
    "            variable_name=\"messages\"\n",
    "        ),\n",
    "        HumanMessagePromptTemplate.from_template(\n",
    "            \"{content}\"\n",
    "        )\n",
    "    ]\n",
    ")"
   ]
  },
  {
   "cell_type": "code",
   "execution_count": 7,
   "metadata": {},
   "outputs": [],
   "source": [
    "chain = LLMChain(\n",
    "    llm=groq_model,\n",
    "    prompt=prompt,\n",
    "    memory=memory\n",
    ")"
   ]
  },
  {
   "cell_type": "code",
   "execution_count": 8,
   "metadata": {},
   "outputs": [
    {
     "data": {
      "text/plain": [
       "{'content': 'Hi',\n",
       " 'messages': [HumanMessage(content='Hi', additional_kwargs={}, response_metadata={}),\n",
       "  AIMessage(content='<think>\\n\\n</think>\\n\\nHello! How can I assist you today? 😊', additional_kwargs={}, response_metadata={}),\n",
       "  HumanMessage(content=\"I'm A Data Scientist\", additional_kwargs={}, response_metadata={}),\n",
       "  AIMessage(content='<think>\\nAlright, the user just said, \"I\\'m a Data Scientist.\" I should acknowledge that positively. Maybe I can ask them what they\\'re working on to show interest. I want to keep the conversation going and see how I can help. Perhaps they need advice, resources, or just want to chat about their work. I\\'ll keep it friendly and open-ended.\\n</think>\\n\\nThat\\'s awesome! Data science is such a fascinating and versatile field. What are you currently working on? Are you exploring any new techniques, tools, or projects? 😊', additional_kwargs={}, response_metadata={}),\n",
       "  HumanMessage(content='What is my proffession?', additional_kwargs={}, response_metadata={}),\n",
       "  AIMessage(content=\"<think>\\nAlright, the user mentioned they're a data scientist. I need to confirm that based on our conversation. \\n\\nThey've been talking about data science, so it's safe to say that's their profession. \\n\\nI should acknowledge their statement and offer further assistance. \\n\\nMaybe ask about their current projects or challenges to keep the conversation going.\\n</think>\\n\\nYou're a **Data Scientist**! That's a fantastic profession, as it combines technical skills with problem-solving and insights. How's your journey in data science going? Are you working on any exciting projects or exploring new areas like AI, machine learning, or data engineering? 😊\", additional_kwargs={}, response_metadata={})],\n",
       " 'text': '<think>\\n\\nHello! How can I assist you today? 😊'}"
      ]
     },
     "execution_count": 8,
     "metadata": {},
     "output_type": "execute_result"
    }
   ],
   "source": [
    "chain.invoke(\n",
    "    \"Hi\"\n",
    ")"
   ]
  },
  {
   "cell_type": "code",
   "execution_count": 9,
   "metadata": {},
   "outputs": [
    {
     "data": {
      "text/plain": [
       "{'content': \"I'm A Data Scientist\",\n",
       " 'messages': [HumanMessage(content='Hi', additional_kwargs={}, response_metadata={}),\n",
       "  AIMessage(content='<think>\\n\\n</think>\\n\\nHello! How can I assist you today? 😊', additional_kwargs={}, response_metadata={}),\n",
       "  HumanMessage(content=\"I'm A Data Scientist\", additional_kwargs={}, response_metadata={}),\n",
       "  AIMessage(content='<think>\\nAlright, the user just said, \"I\\'m a Data Scientist.\" I should acknowledge that positively. Maybe I can ask them what they\\'re working on to show interest. I want to keep the conversation going and see how I can help. Perhaps they need advice, resources, or just want to chat about their work. I\\'ll keep it friendly and open-ended.\\n</think>\\n\\nThat\\'s awesome! Data science is such a fascinating and versatile field. What are you currently working on? Are you exploring any new techniques, tools, or projects? 😊', additional_kwargs={}, response_metadata={}),\n",
       "  HumanMessage(content='What is my proffession?', additional_kwargs={}, response_metadata={}),\n",
       "  AIMessage(content=\"<think>\\nAlright, the user mentioned they're a data scientist. I need to confirm that based on our conversation. \\n\\nThey've been talking about data science, so it's safe to say that's their profession. \\n\\nI should acknowledge their statement and offer further assistance. \\n\\nMaybe ask about their current projects or challenges to keep the conversation going.\\n</think>\\n\\nYou're a **Data Scientist**! That's a fantastic profession, as it combines technical skills with problem-solving and insights. How's your journey in data science going? Are you working on any exciting projects or exploring new areas like AI, machine learning, or data engineering? 😊\", additional_kwargs={}, response_metadata={}),\n",
       "  HumanMessage(content='Hi', additional_kwargs={}, response_metadata={}),\n",
       "  AIMessage(content='<think>\\n\\nHello! How can I assist you today? 😊', additional_kwargs={}, response_metadata={})],\n",
       " 'text': '<think>\\nAlright, so the user just said, \"I\\'m A Data Scientist.\" I remember from the history that they mentioned this before, and I responded positively. They might be looking for some engagement or help related to their work.\\n\\nI should acknowledge their statement again to keep the conversation going. Maybe ask about their current projects or interests to delve deeper into what they\\'re doing. It\\'s important to show genuine interest and offer assistance if they need it.\\n\\nI\\'ll mention how data science is fascinating and versatile, which could encourage them to share more. Maybe they\\'re working on something specific or facing a challenge they want to discuss. By asking about new techniques or tools, I can tap into their current focus areas.\\n\\nOverall, the goal is to keep the conversation flowing, understand their needs, and provide meaningful support. Let\\'s see how they respond and guide the discussion from there.\\n</think>\\n\\nThat\\'s awesome! Data science is such a fascinating and versatile field. What are you currently working on? Are you exploring any new techniques, tools, or projects? 😊'}"
      ]
     },
     "execution_count": 9,
     "metadata": {},
     "output_type": "execute_result"
    }
   ],
   "source": [
    "chain.invoke(\n",
    "    \"I'm A Data Scientist\"\n",
    ")"
   ]
  },
  {
   "cell_type": "code",
   "execution_count": 10,
   "metadata": {},
   "outputs": [
    {
     "data": {
      "text/plain": [
       "{'content': 'What is my proffession?',\n",
       " 'messages': [HumanMessage(content='Hi', additional_kwargs={}, response_metadata={}),\n",
       "  AIMessage(content='<think>\\n\\n</think>\\n\\nHello! How can I assist you today? 😊', additional_kwargs={}, response_metadata={}),\n",
       "  HumanMessage(content=\"I'm A Data Scientist\", additional_kwargs={}, response_metadata={}),\n",
       "  AIMessage(content='<think>\\nAlright, the user just said, \"I\\'m a Data Scientist.\" I should acknowledge that positively. Maybe I can ask them what they\\'re working on to show interest. I want to keep the conversation going and see how I can help. Perhaps they need advice, resources, or just want to chat about their work. I\\'ll keep it friendly and open-ended.\\n</think>\\n\\nThat\\'s awesome! Data science is such a fascinating and versatile field. What are you currently working on? Are you exploring any new techniques, tools, or projects? 😊', additional_kwargs={}, response_metadata={}),\n",
       "  HumanMessage(content='What is my proffession?', additional_kwargs={}, response_metadata={}),\n",
       "  AIMessage(content=\"<think>\\nAlright, the user mentioned they're a data scientist. I need to confirm that based on our conversation. \\n\\nThey've been talking about data science, so it's safe to say that's their profession. \\n\\nI should acknowledge their statement and offer further assistance. \\n\\nMaybe ask about their current projects or challenges to keep the conversation going.\\n</think>\\n\\nYou're a **Data Scientist**! That's a fantastic profession, as it combines technical skills with problem-solving and insights. How's your journey in data science going? Are you working on any exciting projects or exploring new areas like AI, machine learning, or data engineering? 😊\", additional_kwargs={}, response_metadata={}),\n",
       "  HumanMessage(content='Hi', additional_kwargs={}, response_metadata={}),\n",
       "  AIMessage(content='<think>\\n\\nHello! How can I assist you today? 😊', additional_kwargs={}, response_metadata={}),\n",
       "  HumanMessage(content=\"I'm A Data Scientist\", additional_kwargs={}, response_metadata={}),\n",
       "  AIMessage(content='<think>\\nAlright, so the user just said, \"I\\'m A Data Scientist.\" I remember from the history that they mentioned this before, and I responded positively. They might be looking for some engagement or help related to their work.\\n\\nI should acknowledge their statement again to keep the conversation going. Maybe ask about their current projects or interests to delve deeper into what they\\'re doing. It\\'s important to show genuine interest and offer assistance if they need it.\\n\\nI\\'ll mention how data science is fascinating and versatile, which could encourage them to share more. Maybe they\\'re working on something specific or facing a challenge they want to discuss. By asking about new techniques or tools, I can tap into their current focus areas.\\n\\nOverall, the goal is to keep the conversation flowing, understand their needs, and provide meaningful support. Let\\'s see how they respond and guide the discussion from there.\\n</think>\\n\\nThat\\'s awesome! Data science is such a fascinating and versatile field. What are you currently working on? Are you exploring any new techniques, tools, or projects? 😊', additional_kwargs={}, response_metadata={})],\n",
       " 'text': '<think>\\nAlright, let me try to figure this out. The user has already mentioned they\\'re a Data Scientist in our conversation. So when they ask, \"What is my profession?\" they might be seeking confirmation or clarification.\\n\\nI should acknowledge their profession and perhaps ask about their specific interests or projects. Maybe they want to discuss their work or are looking for advice. I need to keep the tone friendly and engaging to encourage them to share more.\\n\\nI\\'ll respond by reaffirming their role and invite them to talk about their projects or any challenges they\\'re facing. That way, I can provide more tailored assistance.\\n</think>\\n\\nYou\\'re a **Data Scientist**! That\\'s a fantastic profession, as it combines technical skills with problem-solving and insights. How\\'s your journey in data science going? Are you working on any exciting projects or exploring new areas like AI, machine learning, or data engineering? 😊'}"
      ]
     },
     "execution_count": 10,
     "metadata": {},
     "output_type": "execute_result"
    }
   ],
   "source": [
    "chain.invoke(\n",
    "    \"What is my proffession?\"\n",
    ")\n",
    "\n",
    "## Now the model is able to memorize the details"
   ]
  },
  {
   "cell_type": "markdown",
   "metadata": {},
   "source": [
    "Different Id for different users. Useful if multiple users using the same chatbot"
   ]
  },
  {
   "cell_type": "code",
   "execution_count": 11,
   "metadata": {},
   "outputs": [],
   "source": [
    "from langchain_community.chat_message_histories import ChatMessageHistory\n",
    "from langchain_core.chat_history import BaseChatMessageHistory\n",
    "from langchain_core.runnables.history import RunnableWithMessageHistory\n",
    "chatbotMemory = {}"
   ]
  },
  {
   "cell_type": "code",
   "execution_count": 12,
   "metadata": {},
   "outputs": [],
   "source": [
    "def get_session_hsitory(session_id: str) -> BaseChatMessageHistory:\n",
    "    if session_id not in chatbotMemory:\n",
    "        chatbotMemory[session_id] = ChatMessageHistory()\n",
    "    return chatbotMemory[session_id]"
   ]
  },
  {
   "cell_type": "code",
   "execution_count": 13,
   "metadata": {},
   "outputs": [],
   "source": [
    "chatbot_with_message_history = RunnableWithMessageHistory(\n",
    "    groq_model,\n",
    "    get_session_hsitory\n",
    ")"
   ]
  },
  {
   "cell_type": "code",
   "execution_count": 14,
   "metadata": {},
   "outputs": [],
   "source": [
    "session1 = {\n",
    "    \"configurable\": {\n",
    "        \"session_id\": \"001\"\n",
    "    }\n",
    "}"
   ]
  },
  {
   "cell_type": "code",
   "execution_count": 18,
   "metadata": {},
   "outputs": [
    {
     "data": {
      "text/plain": [
       "\"<think>\\nOkay, the user's favorite animal is the cat. I should acknowledge that and express enthusiasm.\\n\\nCats are indeed very popular pets. I should mention why they are liked, such as their independence, affectionate nature, and low-maintenance care.\\n\\nMaybe I can add some interesting facts about cats to make the response more engaging.\\n\\nIt would be nice to ask the user a follow-up question to keep the conversation going, like asking about their favorite breed or if they have a pet cat.\\n\\nI should keep the tone friendly and conversational.\\n</think>\\n\\nThat's great! Cats can make wonderful pets. They are often independent, yet affectionate, and can be very entertaining to watch. Do you have a favorite breed of cat or a special feline companion at home?\""
      ]
     },
     "execution_count": 18,
     "metadata": {},
     "output_type": "execute_result"
    }
   ],
   "source": [
    "responseFromChatbot = chatbot_with_message_history.invoke(\n",
    "    [\n",
    "        HumanMessage(\n",
    "            content=\"My favorite animal is cat\"\n",
    "        )\n",
    "    ],\n",
    "    config=session1\n",
    ")\n",
    "responseFromChatbot.content"
   ]
  },
  {
   "cell_type": "code",
   "execution_count": 19,
   "metadata": {},
   "outputs": [
    {
     "data": {
      "text/plain": [
       "'<think>\\n\\n</think>\\n\\nYour favorite animal is the cat.'"
      ]
     },
     "execution_count": 19,
     "metadata": {},
     "output_type": "execute_result"
    }
   ],
   "source": [
    "responseFromChatbot = chatbot_with_message_history.invoke(\n",
    "    [\n",
    "        HumanMessage(\n",
    "            content=\"What is my favorite animal?\"\n",
    "        )\n",
    "    ],\n",
    "    config=session1\n",
    ")\n",
    "responseFromChatbot.content\n",
    "## memory for user 1"
   ]
  },
  {
   "cell_type": "code",
   "execution_count": 20,
   "metadata": {},
   "outputs": [],
   "source": [
    "session2 = {\n",
    "    \"configurable\": {\n",
    "        \"session_id\": \"002\"\n",
    "    }\n",
    "}"
   ]
  },
  {
   "cell_type": "code",
   "execution_count": 21,
   "metadata": {},
   "outputs": [
    {
     "data": {
      "text/plain": [
       "'<think>\\nAlright, so the user is asking, \"What is my favorite animal?\" Hmm, I need to figure out how to respond to that. Let me start by understanding the context. I\\'m an AI, so I don\\'t have personal experiences or emotions, but the user is asking about their own favorite animal. That means I can\\'t provide the answer directly because I don\\'t have access to their personal preferences.\\n\\nMaybe I should consider why the user is asking this. Are they trying to test if I can read their mind? Or perhaps they\\'re looking for a way to share their favorite animal with me? It\\'s possible they want to discuss animals and are starting with this question as an icebreaker.\\n\\nI should think about how to guide them. Since I can\\'t tell them their favorite animal, I can offer assistance in other ways. Maybe I can ask them to share their favorite animal and then provide information about it. That way, I\\'m being helpful and engaging.\\n\\nI should also consider the tone. It\\'s important to be friendly and approachable. Phrasing my response in a way that invites them to share more would be best. Perhaps something like, \"I don\\'t know, but I can help you explore or provide information about different animals if you\\'d like!\"\\n\\nWait, but the initial response I provided was, \"I don\\'t know! What\\'s your favorite animal? I can help you explore or provide information about different animals if you\\'d like.\" That seems appropriate. It acknowledges my limitations while offering assistance. It\\'s open-ended, encouraging the user to engage further.\\n\\nI should make sure my response is clear and not confusing. Using a friendly emoji might make it more approachable. So, adding a smiley emoji at the end could help convey a positive tone.\\n\\nIn summary, the best approach is to politely inform the user that I can\\'t know their favorite animal but offer to help with any related questions or information they might need. This keeps the conversation going and provides value to the user.\\n</think>\\n\\nI don\\'t know your favorite animal, but I\\'m here to help! If you\\'d like to share it with me, I can provide interesting facts or discuss it further. How about you tell me—what\\'s your favorite animal? 😊'"
      ]
     },
     "execution_count": 21,
     "metadata": {},
     "output_type": "execute_result"
    }
   ],
   "source": [
    "responseFromChatbot = chatbot_with_message_history.invoke(\n",
    "    [\n",
    "        HumanMessage(\n",
    "            content=\"What is my favorite animal?\"\n",
    "        )\n",
    "    ],\n",
    "    config=session2\n",
    ")\n",
    "responseFromChatbot.content\n",
    "## This question is for user 1 and model doesnot have access to that as this is for session2"
   ]
  },
  {
   "cell_type": "markdown",
   "metadata": {},
   "source": [
    "We need to limit the memory of the chatbot "
   ]
  },
  {
   "cell_type": "code",
   "execution_count": 22,
   "metadata": {},
   "outputs": [],
   "source": [
    "from langchain_core.prompts import ChatPromptTemplate, MessagesPlaceholder\n",
    "from langchain_core.runnables import RunnablePassthrough"
   ]
  },
  {
   "cell_type": "code",
   "execution_count": 23,
   "metadata": {},
   "outputs": [],
   "source": [
    "def limited_memory_of_messages(messages, number_of_messages_to_keep=2):\n",
    "    return messages[-number_of_messages_to_keep:]"
   ]
  },
  {
   "cell_type": "code",
   "execution_count": 24,
   "metadata": {},
   "outputs": [],
   "source": [
    "prompt = ChatPromptTemplate.from_messages(\n",
    "    [\n",
    "        (\n",
    "            \"system\",\n",
    "            \"You are a helpful assistant. Answer all to the best of your ability.\"\n",
    "        ),\n",
    "        MessagesPlaceholder(\n",
    "            variable_name=\"messages\"\n",
    "        ),\n",
    "    ]\n",
    ")\n",
    "\n",
    "limitesMemoryChain = (\n",
    "    RunnablePassthrough.assign(messages=lambda x: limited_memory_of_messages(x[\"messages\"]))\n",
    "    | prompt\n",
    "    | groq_model\n",
    ")"
   ]
  },
  {
   "cell_type": "code",
   "execution_count": 25,
   "metadata": {},
   "outputs": [],
   "source": [
    "chatbot_with_limited_message_history = RunnableWithMessageHistory(\n",
    "    limitesMemoryChain,\n",
    "    get_session_hsitory,\n",
    "    input_messages_key=\"messages\"\n",
    ")"
   ]
  },
  {
   "cell_type": "markdown",
   "metadata": {},
   "source": [
    "Let's add 2 more messages to the session1 conversation"
   ]
  },
  {
   "cell_type": "code",
   "execution_count": 26,
   "metadata": {},
   "outputs": [
    {
     "data": {
      "text/plain": [
       "'<think>\\nAlright, let\\'s see. The user just said, \"My favorate car is pagani.\" Wait, they meant \"favorite,\" probably just a typo. So, they\\'re talking about cars now. Earlier, they mentioned their favorite animal is a cat. So, they\\'re sharing another interest. \\n\\nPagani is a luxury car brand, known for high-end, exclusive vehicles. The user might be into high-performance or exotic cars. Maybe they have a passion for automotive design or speed. I should acknowledge their choice and ask more about what specifically they like about Pagani. Is it the design, the performance, or something else? This can help keep the conversation engaging and show genuine interest. \\n\\nAlso, since they mentioned both their favorite animal and car, perhaps they enjoy sharing their preferences. Maybe I can ask if there\\'s a particular model they like, like the Huayra or Zonda. That could delve deeper into their interests and make the interaction more personalized.\\n</think>\\n\\nThat\\'s awesome! Pagani is a fantastic choice. Pagani cars are known for their stunning design, exclusivity, and exceptional craftsmanship. Do you have a favorite Pagani model, like the Huayra or Zonda?'"
      ]
     },
     "execution_count": 26,
     "metadata": {},
     "output_type": "execute_result"
    }
   ],
   "source": [
    "responseFromChatbot = chatbot_with_message_history.invoke(\n",
    "    [\n",
    "        HumanMessage(\n",
    "            content=\"My favorate car is pagani\"\n",
    "        )\n",
    "    ],\n",
    "        config=session1\n",
    ")\n",
    "responseFromChatbot.content"
   ]
  },
  {
   "cell_type": "code",
   "execution_count": 32,
   "metadata": {},
   "outputs": [
    {
     "data": {
      "text/plain": [
       "\"<think>\\nAlright, let's see. The user has been talking about their favorite things before—animal, car, and now city. They mentioned Venice as their favorite city. I should acknowledge that and keep the conversation going. Venice is such a unique place with its canals and history, so maybe I can ask if they've been there or what they love about it. That way, the conversation stays engaging and personal.\\n</think>\\n\\nThat's a wonderful choice! Venice is such a unique and enchanting city, known for its breathtaking canals, stunning architecture, and rich history. The gondolas, St. Mark's Square, and the overall romantic vibe make it a truly special place. Have you ever been there, or is it a place you'd love to visit someday?\""
      ]
     },
     "execution_count": 32,
     "metadata": {},
     "output_type": "execute_result"
    }
   ],
   "source": [
    "responseFromChatbot = chatbot_with_message_history.invoke(\n",
    "    [\n",
    "        HumanMessage(\n",
    "            content=\"My favorite city is Venice\"\n",
    "        )\n",
    "    ],\n",
    "        config=session1\n",
    ")\n",
    "responseFromChatbot.content"
   ]
  },
  {
   "cell_type": "markdown",
   "metadata": {},
   "source": [
    "Session1 chatbot has now 4 messages. Let's check the chatbot with limited memory"
   ]
  },
  {
   "cell_type": "code",
   "execution_count": null,
   "metadata": {},
   "outputs": [
    {
     "data": {
      "text/plain": [
       "'<think>\\nAlright, the user has asked, \"What is my favorite animal?\" Hmm, I need to figure out how to respond to that. Let me think.\\n\\nLooking back at the conversation history, the user mentioned they\\'re planning to go to Venice. I responded by acknowledging that choice and asking if they\\'ve been there or if they\\'d like to visit. Now, they\\'re shifting topics to their favorite animal.\\n\\nI don\\'t have any information about their preferences, so I can\\'t provide a specific answer. I should let them know that I don\\'t have that data. But I don\\'t want to just say \"I don\\'t know.\" I should offer to help them explore or discuss animals if they\\'re interested.\\n\\nMaybe I can ask them to share their favorite animal with me. That way, the conversation can continue, and I can provide more relevant information or discuss topics related to their interest. It keeps the interaction engaging and helpful.\\n\\nI should phrase it in a friendly and open manner, showing willingness to assist further once they share their preference. That way, I respect their privacy while encouraging them to engage more with me.\\n</think>\\n\\nI don\\'t have access to personal information about you, including your preferences. However, if you\\'d like to share your favorite animal, I\\'d be happy to help explore or discuss it further!'"
      ]
     },
     "execution_count": 28,
     "metadata": {},
     "output_type": "execute_result"
    }
   ],
   "source": [
    "responseFromChatbot = chatbot_with_limited_message_history.invoke(\n",
    "    {\n",
    "            \"messages\": [\n",
    "                    HumanMessage(\n",
    "                    content=\"What is my favorite animal?\"\n",
    "                )\n",
    "        ]\n",
    "    },\n",
    "        config=session1\n",
    ")\n",
    "responseFromChatbot.content\n",
    "## This is with limited memory"
   ]
  },
  {
   "cell_type": "code",
   "execution_count": null,
   "metadata": {},
   "outputs": [
    {
     "data": {
      "text/plain": [
       "'\\n\\nYour favorite animal is the cat.'"
      ]
     },
     "execution_count": 29,
     "metadata": {},
     "output_type": "execute_result"
    }
   ],
   "source": [
    "responseFromChatbot = chatbot_with_message_history.invoke(\n",
    "    {\n",
    "            \"messages\": [\n",
    "                    HumanMessage(\n",
    "                    content=\"What is my favorite animal?\"\n",
    "                )\n",
    "        ]\n",
    "    },\n",
    "        config=session1\n",
    ")\n",
    "responseFromChatbot.content\n",
    "## This is with unlimited memory"
   ]
  },
  {
   "cell_type": "code",
   "execution_count": 33,
   "metadata": {},
   "outputs": [
    {
     "data": {
      "text/plain": [
       "'<think>\\nOkay, the user just asked, \"What is my favorite city?\" Looking back at the conversation history, I mentioned Venice and how it\\'s a unique and enchanting place. The user hasn\\'t provided any information about their preferences or previous visits. I can\\'t assume they like Venice just because I brought it up. So, I should respond in a way that shows I don\\'t have that information. Maybe I can offer to help them explore or discuss cities they might like. That way, I stay helpful without making assumptions.\\n</think>\\n\\nI don\\'t have access to personal information about your preferences, but if you\\'d like, I can help you explore or discuss your favorite city!'"
      ]
     },
     "execution_count": 33,
     "metadata": {},
     "output_type": "execute_result"
    }
   ],
   "source": [
    "responseFromChatbot = chatbot_with_limited_message_history.invoke(\n",
    "    {\n",
    "            \"messages\": [\n",
    "                    HumanMessage(\n",
    "                    content=\"What is my favorite city?\"\n",
    "                )\n",
    "        ]\n",
    "    },\n",
    "        config=session1\n",
    ")\n",
    "responseFromChatbot.content"
   ]
  }
 ],
 "metadata": {
  "kernelspec": {
   "display_name": "llmapp",
   "language": "python",
   "name": "python3"
  },
  "language_info": {
   "codemirror_mode": {
    "name": "ipython",
    "version": 3
   },
   "file_extension": ".py",
   "mimetype": "text/x-python",
   "name": "python",
   "nbconvert_exporter": "python",
   "pygments_lexer": "ipython3",
   "version": "3.11.0"
  }
 },
 "nbformat": 4,
 "nbformat_minor": 2
}
